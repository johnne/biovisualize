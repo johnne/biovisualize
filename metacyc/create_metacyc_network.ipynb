{
 "cells": [
  {
   "cell_type": "markdown",
   "metadata": {},
   "source": [
    "# Creating a metabolic network from the Metacyc database"
   ]
  },
  {
   "cell_type": "markdown",
   "metadata": {},
   "source": [
    "## Background"
   ]
  },
  {
   "cell_type": "markdown",
   "metadata": {},
   "source": [
    "From the [EcoCyc database](http://ecocyc.org/PToolsWebsiteHowto.shtml#node_sec_8): \n",
    "\n",
    "Organization of the Cellular Overview: Within the cytoplasmic membrane, the small-molecule metabolism of the organism is depicted in several regions. **The glycolysis and the TCA cycle pathways, if present, will be placed in the middle of the diagram** to separate **predominately catabolic pathways on the right** from pathways of **anabolism and intermediary metabolism on the left**. The existence of anaplerotic pathways prevents rigid classification. The majority of pathways operate in the downward direction.\n",
    "\n",
    "Here we will create a network representation of the Metacyc database. Nodes will be pathways and edges between nodes  are compounds linking the pathways. In order to emulate the Cellular Overview described above three networks will be generated, representing **Biosynthesis**, **Core** and **Degradation** pathways. These networks will then be composed together.\n",
    "\n",
    "The resulting graph can be used to overlay pathway abundance data from sequencing experiments."
   ]
  },
  {
   "cell_type": "markdown",
   "metadata": {},
   "source": [
    "## Method"
   ]
  },
  {
   "cell_type": "code",
   "execution_count": 1,
   "metadata": {
    "collapsed": false
   },
   "outputs": [],
   "source": [
    "import networkx as nx, matplotlib.pyplot as plt, pandas as pd, pickle, matplotlib as mpl\n",
    "\n",
    "from glob import glob\n",
    "import plotly.plotly as py\n",
    "from plotly.graph_objs import *\n",
    "import numpy as np\n",
    "from ipywidgets import interact, interactive, fixed\n",
    "import ipywidgets as widgets\n",
    "\n",
    "%config InlineBackend.figure_format = 'svg'\n",
    "%matplotlib inline\n",
    "plt.style.use('ggplot')"
   ]
  },
  {
   "cell_type": "markdown",
   "metadata": {},
   "source": [
    "### Read the metacyc data"
   ]
  },
  {
   "cell_type": "markdown",
   "metadata": {},
   "source": [
    "Reads from the [parse-db](https://github.com/johnne/parse-db) repository."
   ]
  },
  {
   "cell_type": "code",
   "execution_count": 2,
   "metadata": {
    "collapsed": true
   },
   "outputs": [],
   "source": [
    "metacyc_graph = pd.read_csv(\"https://github.com/johnne/parse-db/raw/master/metacyc/db_data/metacyc.pathway_graph.tab\", header=0, sep=\"\\t\", index_col=0)\n",
    "metacyc_df = pd.read_csv(\"https://github.com/johnne/parse-db/raw/master/metacyc/db_data/metacyc.ec2pathcats.tab\", header=0, sep=\"\\t\", index_col=0)"
   ]
  },
  {
   "cell_type": "markdown",
   "metadata": {},
   "source": [
    "### Make subsets of pathways"
   ]
  },
  {
   "cell_type": "markdown",
   "metadata": {},
   "source": [
    "As seen in the Venn diagram below (based on Metacyc v. 20.1) there is some overlap in terms of categorization of pathways to higher levels in the hierarchy.\n",
    "\n",
    "<p align=\"left\">\n",
    "    <img src=\"https://github.com/johnne/parse-db/raw/master/metacyc/images/metacyc_venn.png\" width=\"300\" height=\"300\"/>\n",
    "</p>\n",
    "\n",
    "To make things easy for us, pathways that overlap in some way between the three different categories will first be put into the 'Core' (Generation of Precursor Metabolites and Energy) category, then the 'Degradation' (Degradation/Utilization/Assimilation)."
   ]
  },
  {
   "cell_type": "code",
   "execution_count": 3,
   "metadata": {
    "collapsed": false
   },
   "outputs": [],
   "source": [
    "core = [\"Generation of Precursor Metabolites and Energy\"]\n",
    "syn = [\"Biosynthesis\"]\n",
    "deg = [\"Degradation/Utilization/Assimilation\"]\n",
    "\n",
    "core_pwys = list(set(metacyc_df.loc[metacyc_df.Category1.isin(core),\"Pathway\"]))\n",
    "deg_pwys = list(set(metacyc_df.loc[metacyc_df.Category1.isin(deg),\"Pathway\"]))\n",
    "deg_pwys = list(set(deg_pwys).difference(set(core_pwys)))\n",
    "syn_pwys = list(set(metacyc_df.loc[metacyc_df.Category1.isin(syn),\"Pathway\"]))\n",
    "syn_pwys = list(set(syn_pwys).difference(set(core_pwys+deg_pwys)))"
   ]
  },
  {
   "cell_type": "markdown",
   "metadata": {},
   "source": [
    "Create three separate dataframes with no edges between the three subgraphs. Those edges will be added later."
   ]
  },
  {
   "cell_type": "code",
   "execution_count": 4,
   "metadata": {
    "collapsed": true
   },
   "outputs": [],
   "source": [
    "core_graph_df = metacyc_graph.loc[(metacyc_graph.Node1.isin(core_pwys)) & ((metacyc_graph.Node2.isin(core_pwys)))]\n",
    "core_pwy_singles = list(set(core_pwys).difference(set(core_graph_df.Node1)))\n",
    "syn_graph_df = metacyc_graph.loc[(metacyc_graph.Node1.isin(syn_pwys)) & ((metacyc_graph.Node2.isin(syn_pwys)))]\n",
    "syn_pwy_singles = list(set(syn_pwys).difference(set(syn_graph_df.Node1)))\n",
    "deg_graph_df = metacyc_graph.loc[(metacyc_graph.Node1.isin(deg_pwys)) & ((metacyc_graph.Node2.isin(deg_pwys)))]\n",
    "deg_pwy_singles = list(set(deg_pwys).difference(set(deg_graph_df.Node1)))"
   ]
  },
  {
   "cell_type": "markdown",
   "metadata": {},
   "source": [
    "Count number of edges (connections) for each pathway."
   ]
  },
  {
   "cell_type": "code",
   "execution_count": 5,
   "metadata": {
    "collapsed": true
   },
   "outputs": [],
   "source": [
    "## Count edges for pathways\n",
    "edge_counts = metacyc_graph.groupby(\"Node1\").count().ix[:,0]\n",
    "edge_counts = edge_counts.sort_values(ascending=False)"
   ]
  },
  {
   "cell_type": "markdown",
   "metadata": {},
   "source": [
    "### Create the graphs"
   ]
  },
  {
   "cell_type": "markdown",
   "metadata": {},
   "source": [
    "#### Functions to order nodes and assign node attributes"
   ]
  },
  {
   "cell_type": "code",
   "execution_count": 6,
   "metadata": {
    "collapsed": false
   },
   "outputs": [],
   "source": [
    "def make_shells(num_shells,nodes):\n",
    "    '''Divides nodes into shells starting from most connected nodes in the center'''\n",
    "    total_nodes = len(nodes)\n",
    "    shells = [[]]*num_shells\n",
    "    ## If all shells had the same radius, they would have nodes_per_shell nodes\n",
    "    nodes_per_shell = np.round(total_nodes/num_shells) \n",
    "    added_nodes = 0\n",
    "    for i,s in enumerate(shells,start=1):\n",
    "        this_shell = nodes_per_shell\n",
    "        ## The shell receives from_inner nodes from the inner shell\n",
    "        if i==1: from_inner = 0\n",
    "        #else: from_inner = np.round(nodes_per_shell-(nodes_per_shell*((i-1)/i)))\n",
    "        else: from_inner = np.round(nodes_per_shell*((i-1)/float(i)))\n",
    "        ## The shell gives to_outer nodes to the outer shell\n",
    "        to_outer = np.round(nodes_per_shell*(float(i)/(i+1)))\n",
    "        ## Calculate the resulting number of nodes to store for this shell\n",
    "        num_nodes = int(from_inner+this_shell-to_outer)\n",
    "        \n",
    "        ## The last shell receive the remaining nodes\n",
    "        if i==num_shells: shells[i-1] = nodes\n",
    "        else: \n",
    "            shells[i-1] = nodes[:num_nodes]\n",
    "            nodes = nodes[num_nodes:]\n",
    "    return shells\n",
    "\n",
    "def assign_node_weights(g,d):\n",
    "    '''Assign node linkage counts as attributes'''\n",
    "    for n in g.nodes():\n",
    "        try: w = d[n]\n",
    "        except KeyError: w = 0\n",
    "        try: g.node[n]['weight'] = w\n",
    "        except KeyError: g.node[n] = {'weight': w}\n",
    "    return g\n",
    "\n",
    "def assign_node_pos(g,pos):\n",
    "    for n in g.nodes(): g.node[n]['pos'] = pos[n]\n",
    "    return g\n",
    "\n",
    "def create_shell_graph(g,nodes,r,numshells,x,y):\n",
    "    g_shells = make_shells(numshells,nodes)\n",
    "    g_layout = nx.shell_layout(g, nlist=g_shells, center=(x,y), scale=r)\n",
    "    g = assign_node_pos(g,g_layout)\n",
    "    return g\n",
    "\n",
    "def add_intergraph_edges(g,p1,p2,df):\n",
    "    for i in df.loc[(df.Node1.isin(p1)) & (df.Node2.isin(p2))].index:\n",
    "        e = tuple(df.loc[i,[\"Node1\",\"Node2\"]])\n",
    "        cpd = str(df.loc[i,\"CPD\"])\n",
    "        g.add_edge(*e)\n",
    "        g.edge[e[0]][e[1]]['CPD'] = cpd\n",
    "    return g"
   ]
  },
  {
   "cell_type": "markdown",
   "metadata": {},
   "source": [
    "Initialize the three graphs from the pandas dataframes"
   ]
  },
  {
   "cell_type": "code",
   "execution_count": 7,
   "metadata": {
    "collapsed": true
   },
   "outputs": [],
   "source": [
    "core_graph = nx.from_pandas_dataframe(core_graph_df, source=\"Node1\",target=\"Node2\",edge_attr=\"CPD\")\n",
    "deg_graph = nx.from_pandas_dataframe(deg_graph_df, source=\"Node1\",target=\"Node2\",edge_attr=\"CPD\")\n",
    "syn_graph = nx.from_pandas_dataframe(syn_graph_df, source=\"Node1\",target=\"Node2\",edge_attr=\"CPD\")\n",
    "\n",
    "## Add single nodes to the graphs\n",
    "syn_graph.add_nodes_from(syn_pwy_singles)\n",
    "core_graph.add_nodes_from(core_pwy_singles)\n",
    "deg_graph.add_nodes_from(deg_pwy_singles)"
   ]
  },
  {
   "cell_type": "markdown",
   "metadata": {},
   "source": [
    "Create shell layouts for each subgraph. Sort pathways by number of connections so that the most highly connected ('central', e.g. [Glycolysis](http://metacyc.org/META/NEW-IMAGE?type=PATHWAY&object=GLYCOLYSIS)) pathways will be in the middle of each subgraph. The 'Core' subgraph contains 3 shells with a radius of 1 for the outermost shell while the 'Biosynthesis' and 'Degradation' graphs contain 6 shells each, with a radius of 2.\n",
    "\n",
    "The subgraphs are positioned similar to the EcoCyc cellular overview, with Biosynthesis pathways to the left (x=-3,y=0), Core pathways in the middle (x=0,y=1) and Degradation pathways to the right (x=3,y=0).\n",
    "\n",
    "*Each shell will have a number of pathways (roughly) proportional to the size of the shell.*"
   ]
  },
  {
   "cell_type": "code",
   "execution_count": 8,
   "metadata": {
    "collapsed": true
   },
   "outputs": [],
   "source": [
    "## BIOSYNTHESIS\n",
    "nodes = set(syn_pwys+syn_pwy_singles)\n",
    "nodes = list(edge_counts.loc[nodes].sort_values(ascending=False).fillna(0).index)\n",
    "syn_graph = create_shell_graph(syn_graph,nodes,r=2,numshells=6,x=-3,y=0)\n",
    "\n",
    "## CORE\n",
    "nodes = list(set(core_pwys+core_pwy_singles))\n",
    "nodes = list(edge_counts.loc[nodes].sort_values(ascending=False).fillna(0).index)\n",
    "core_graph = create_shell_graph(core_graph,nodes,r=1,numshells=3,x=0,y=1)\n",
    "\n",
    "## DEGRADATION\n",
    "nodes = set(deg_pwys+deg_pwy_singles)\n",
    "nodes = list(edge_counts.loc[nodes].sort_values(ascending=False).fillna(0).index)\n",
    "deg_graph = create_shell_graph(deg_graph,nodes,r=2,numshells=6,x=3,y=0)"
   ]
  },
  {
   "cell_type": "markdown",
   "metadata": {},
   "source": [
    "#### Final touches"
   ]
  },
  {
   "cell_type": "markdown",
   "metadata": {},
   "source": [
    "Here the subgraphs are composed together and node the number of connections added as 'node weights'. Finally, edges are added connecting pathways between subgraphs."
   ]
  },
  {
   "cell_type": "code",
   "execution_count": 9,
   "metadata": {
    "collapsed": false
   },
   "outputs": [],
   "source": [
    "## Compose all three graphs into one\n",
    "G = nx.compose_all([core_graph,syn_graph,deg_graph])\n",
    "\n",
    "## Assign node weights\n",
    "G = assign_node_weights(G,edge_counts)\n",
    "\n",
    "## Add final edges between the three subgraphs\n",
    "G = add_intergraph_edges(G,core_pwys,syn_pwys,metacyc_graph) ## Between biosynthesis and core\n",
    "G = add_intergraph_edges(G,core_pwys,deg_pwys,metacyc_graph) ## Between degradation and core\n",
    "G = add_intergraph_edges(G,syn_pwys,deg_pwys,metacyc_graph) ## Between degradation and biosynthesis"
   ]
  },
  {
   "cell_type": "markdown",
   "metadata": {},
   "source": [
    "## Visualize the resulting graph"
   ]
  },
  {
   "cell_type": "markdown",
   "metadata": {},
   "source": [
    "### Using matplotlib"
   ]
  },
  {
   "cell_type": "code",
   "execution_count": 10,
   "metadata": {
    "collapsed": false
   },
   "outputs": [
    {
     "data": {
      "text/plain": [
       "<function __main__.plot_graph>"
      ]
     },
     "execution_count": 10,
     "metadata": {},
     "output_type": "execute_result"
    }
   ],
   "source": [
    "def plot_graph(G,df,f):\n",
    "    ## Add values for node colors and edge widths\n",
    "    node_colors = []\n",
    "    edge_widths = []\n",
    "    ## Use log values for weights to get better distribution of colors\n",
    "    for node in G.nodes(): node_colors.append(np.log(G.node[node]['weight']+1))\n",
    "    for edge in G.edges():\n",
    "        p1,p2 = edge\n",
    "        w1 = G.node[p1]['weight']\n",
    "        w2 = G.node[p2]['weight']\n",
    "        ## Only show edges for nodes with >=10 connections\n",
    "        if w1>10 or w2>10: edge_widths.append(0.1)\n",
    "        else: edge_widths.append(0)\n",
    "\n",
    "    ## Create figure and first axis\n",
    "    fig = plt.figure(figsize=(12,5))\n",
    "    ax1 = fig.add_axes([0, 0, 1, 1])\n",
    "    nx.draw_networkx(G,pos=nx.get_node_attributes(G,\"pos\"),node_size=20,node_color=node_colors,\n",
    "                 cmap=\"RdBu_r\",width=0.05, with_labels=False, linewidths=0.1,ax=ax1)\n",
    "    ## Plot title for the plot\n",
    "    ax1.set_title(\"Metacyc network\")\n",
    "    ## Plot subgraph labels\n",
    "    ax1.text(x=0,y=-0.15,s=\"Core\",horizontalalignment='center')\n",
    "    ax1.text(x=-3,y=-2.15,s=\"Biosynthesis\",horizontalalignment='center')\n",
    "    ax1.text(x=3,y=-2.15,s=\"Degradation\",horizontalalignment='center')\n",
    "    ## Set limits of axes\n",
    "    ax1.set_xlim(-5.2,5.2)\n",
    "    ax1.set_ylim(-2.2,2.2)\n",
    "\n",
    "    ## Add colorbar\n",
    "    tickvals = np.log([1,26,51,76,101])\n",
    "    ticktext = [\"0\",\"25\",\"50\",\"75\",\"100\"]\n",
    "    ax2 = fig.add_axes([0.5, 0.05, 0.01,0.2])\n",
    "    cmap = mpl.cm.RdBu_r\n",
    "    norm = mpl.colors.Normalize(vmin=np.log(1), vmax=np.log(101))\n",
    "    cb = mpl.colorbar.ColorbarBase(ax2, cmap=cmap,norm=norm,ticks=tickvals,orientation='vertical')\n",
    "    cb.set_ticklabels(ticktext)\n",
    "    cb.set_label(\"Connections\", )\n",
    "    for item in ax2.get_yticklabels(): item.set_fontsize(8)\n",
    "    plt.savefig(f,dpi=300, bbox_inches=\"tight\")\n",
    "\n",
    "mpl_file_box = widgets.Text(value=\"images/metacyc_network_mpl.png\", description=\"Filename\")\n",
    "interact(plot_graph, G=fixed(G), df=fixed(metacyc_df), f=mpl_file_box, __manual=True)"
   ]
  },
  {
   "cell_type": "markdown",
   "metadata": {},
   "source": [
    "### Using plotly"
   ]
  },
  {
   "cell_type": "code",
   "execution_count": 11,
   "metadata": {
    "collapsed": false,
    "scrolled": true
   },
   "outputs": [
    {
     "data": {
      "text/html": [
       "<iframe id=\"igraph\" scrolling=\"no\" style=\"border:none;\" seamless=\"seamless\" src=\"https://plot.ly/~john.sundh/335.embed\" height=\"500px\" width=\"1200px\"></iframe>"
      ],
      "text/plain": [
       "<plotly.tools.PlotlyDisplay object>"
      ]
     },
     "metadata": {},
     "output_type": "display_data"
    }
   ],
   "source": [
    "def plotly_graph(G, df, f):\n",
    "    ## Add colorbar for nodes, using log scale\n",
    "    ## Use log scale for colorbar\n",
    "    tickvals = np.log([1,26,51,76,101])\n",
    "    ticktext = [\"0\",\"25\",\"50\",\"75\",\"100\"]\n",
    "    node_colorbar=dict(thickness=15,len=0.5,title='Connections',xanchor='left',\n",
    "                       titleside='right',tickmode='array',ticktext=ticktext, tickvals=tickvals)    \n",
    "\n",
    "    ## Add edge and node traces\n",
    "    edge_trace = Scatter(x=[],y=[],text=[],line=Line(width=0.1,color='#888'),hoverinfo='text',mode='lines')\n",
    "    node_trace = Scatter(x=[],y=[],text=[],mode='markers',hoverinfo='text',marker=Marker(showscale=True,colorscale='RdBu',\n",
    "        reversescale=False,color=[],size=6,colorbar=node_colorbar,line=dict(width=0.5)))\n",
    "\n",
    "    ## Create figure layout\n",
    "    fig_layout = Layout(title=\"Metacyc network\",titlefont=dict(size=12),showlegend=False,width=1200,height=500,\n",
    "                hovermode='closest',margin=dict(b=20,l=5,r=5,t=20),\n",
    "                annotations=[dict(showarrow=False,text=\"Biosynthesis\",x=-3, y=-2.15),\n",
    "                            dict(showarrow=False,text=\"Core metabolism\",x=0, y=-0.15),\n",
    "                            dict(showarrow=False,text=\"Degradation\",x=3, y=-2.15),\n",
    "                            dict(showarrow=False,x=0,y=-2.5,\n",
    "                                 text=\"Jupyter notebook on GitHub: <a href='https://github.com/johnne/biovisualize/blob/master/metacyc/create_metacyc_network.ipynb'> create_metacyc_network.ipynb</a>\")],\n",
    "                xaxis=XAxis(showgrid=False, zeroline=False, showticklabels=False),\n",
    "                yaxis=YAxis(showgrid=False, zeroline=False, showticklabels=False))\n",
    "\n",
    "    ## Add edges to edge trace\n",
    "    for edge in G.edges():\n",
    "        x0, y0 = G.node[edge[0]]['pos']\n",
    "        x1, y1 = G.node[edge[1]]['pos']\n",
    "        edge_trace['x'] += [x0, x1, None]\n",
    "        edge_trace['y'] += [y0, y1, None]\n",
    "\n",
    "    ## Add nodes to node trace\n",
    "    for n in G.nodes():\n",
    "        x, y = G.node[n]['pos']\n",
    "        node_trace['x'].append(x)\n",
    "        node_trace['y'].append(y)\n",
    "        node_trace['marker']['color'].append(np.log(G.node[n]['weight']+1))\n",
    "        node_info = list(set(df.loc[df.Pathway==n,\"Name\"]))[0]+\" (#\"+str(G.node[n]['weight'])+\")\"\n",
    "        node_trace['text'].append(node_info)\n",
    "\n",
    "    fig = Figure(data=Data([edge_trace, node_trace]), layout=fig_layout)\n",
    "    return py.iplot(fig, filename=f, fileopt='overwrite')\n",
    "plotly_file_box = widgets.Text(value=\"metacyc_network\", description=\"Filename\")\n",
    "interact(plotly_graph,G=fixed(G),df=fixed(metacyc_df), f=plotly_file_box, __manual=True)"
   ]
  },
  {
   "cell_type": "markdown",
   "metadata": {},
   "source": [
    "### Saving the graph to file"
   ]
  },
  {
   "cell_type": "markdown",
   "metadata": {},
   "source": [
    "The graph 'G' is saved in [pickle format](https://docs.python.org/3/library/pickle.html), a serialized byte stream of a Python object. This format will preserve Python objects used as nodes or edges."
   ]
  },
  {
   "cell_type": "code",
   "execution_count": 12,
   "metadata": {
    "collapsed": true
   },
   "outputs": [],
   "source": [
    "nx.write_gpickle(G, \"datadir/metacyc_shell_network.gpickle\")"
   ]
  },
  {
   "cell_type": "markdown",
   "metadata": {},
   "source": [
    "To read the graph from file simply run: nx.read_gpickle(\"datadir/metacyc_shell_network.gpickle\")"
   ]
  }
 ],
 "metadata": {
  "anaconda-cloud": {},
  "kernelspec": {
   "display_name": "Python [conda env:bio35]",
   "language": "python",
   "name": "conda-env-bio35-py"
  },
  "language_info": {
   "codemirror_mode": {
    "name": "ipython",
    "version": 3
   },
   "file_extension": ".py",
   "mimetype": "text/x-python",
   "name": "python",
   "nbconvert_exporter": "python",
   "pygments_lexer": "ipython3",
   "version": "3.5.2"
  },
  "widgets": {
   "state": {
    "4c8364684e9949f7ae516a8f60c2d02f": {
     "views": [
      {
       "cell_index": 27
      }
     ]
    },
    "5d0e9f3c23d5486aa3382bfa7056a2fd": {
     "views": [
      {
       "cell_index": 29
      }
     ]
    }
   },
   "version": "1.2.0"
  }
 },
 "nbformat": 4,
 "nbformat_minor": 1
}
