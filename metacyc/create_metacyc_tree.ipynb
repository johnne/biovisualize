{
 "cells": [
  {
   "cell_type": "markdown",
   "metadata": {},
   "source": [
    "# Creating a metabolic hierarchical tree from the Metacyc database"
   ]
  },
  {
   "cell_type": "markdown",
   "metadata": {},
   "source": [
    "## Background"
   ]
  },
  {
   "cell_type": "markdown",
   "metadata": {},
   "source": [
    "From the [EcoCyc database](http://ecocyc.org/PToolsWebsiteHowto.shtml#node_sec_8): \n",
    "\n",
    "Organization of the Cellular Overview: Within the cytoplasmic membrane, the small-molecule metabolism of the organism is depicted in several regions. **The glycolysis and the TCA cycle pathways, if present, will be placed in the middle of the diagram** to separate **predominately catabolic pathways on the right** from pathways of **anabolism and intermediary metabolism on the left**. The existence of anaplerotic pathways prevents rigid classification. The majority of pathways operate in the downward direction.\n",
    "\n",
    "Here we will create a network representation of the Metacyc database. Nodes will be pathways and edges between nodes  are compounds linking the pathways. In order to emulate the Cellular Overview described above three networks will be generated, representing **Biosynthesis**, **Core** and **Degradation** pathways. These networks will then be composed together.\n",
    "\n",
    "The resulting graph can be used to overlay pathway abundance data from sequencing experiments."
   ]
  },
  {
   "cell_type": "markdown",
   "metadata": {},
   "source": [
    "## Method"
   ]
  },
  {
   "cell_type": "code",
   "execution_count": null,
   "metadata": {
    "collapsed": false
   },
   "outputs": [],
   "source": [
    "import networkx as nx, matplotlib.pyplot as plt, pandas as pd, pickle, matplotlib as mpl\n",
    "\n",
    "from glob import glob\n",
    "import plotly.plotly as py\n",
    "from plotly.graph_objs import *\n",
    "import numpy as np\n",
    "from ipywidgets import interact, interactive, fixed\n",
    "import ipywidgets as widgets\n",
    "\n",
    "%config InlineBackend.figure_format = 'svg'\n",
    "%matplotlib inline\n",
    "plt.style.use('ggplot')"
   ]
  },
  {
   "cell_type": "markdown",
   "metadata": {},
   "source": [
    "### Read the metacyc data"
   ]
  },
  {
   "cell_type": "markdown",
   "metadata": {},
   "source": [
    "Select graph table and Enzyme/Pathway table for Metacyc. Choose **GitHub** to read from the [parse-db](https://github.com/johnne/parse-db/metacyc) repository."
   ]
  },
  {
   "cell_type": "code",
   "execution_count": null,
   "metadata": {
    "collapsed": false
   },
   "outputs": [],
   "source": [
    "def read_metacyc(f,g):\n",
    "    if g==\"GitHub\": g = \"https://github.com/johnne/parse-db/raw/master/metacyc/db_data/metacyc.pathway_graph.tab\"\n",
    "    if f==\"GitHub\": f = \"https://github.com/johnne/parse-db/raw/master/metacyc/db_data/metacyc.ec2pathcats.tab\"\n",
    "    global metacyc_graph\n",
    "    global metacyc_df\n",
    "    metacyc_graph = pd.read_csv(g, header=0, sep=\"\\t\", index_col=0)\n",
    "    metacyc_df = pd.read_csv(f, header=0, sep=\"\\t\", index_col=0)\n",
    "    \n",
    "g_sel = widgets.Select(options=glob(\"datadir/*\")+[\"GitHub\"], description=\"Graph table\", value=\"GitHub\")\n",
    "ec_sel = widgets.Select(options=glob(\"datadir/*\")+[\"GitHub\"], description=\"EC2Path table\", value=\"GitHub\")\n",
    "interact(read_metacyc,f=ec_sel,g=g_sel, __manual=True)"
   ]
  },
  {
   "cell_type": "markdown",
   "metadata": {},
   "source": [
    "### Select pathways of interest (optional)"
   ]
  },
  {
   "cell_type": "code",
   "execution_count": null,
   "metadata": {
    "collapsed": false
   },
   "outputs": [],
   "source": [
    "def select_pathways(f,df):\n",
    "    p_start = len(set(df.Pathway))\n",
    "    p = pd.read_csv(f,index_col=0,header=None)\n",
    "    df = df.loc[df.Pathway.isin(p.index)]\n",
    "    metacyc_df = df.copy(deep=True)\n",
    "    p_end = len(set(metacyc_df.Pathway))\n",
    "    print(\"Went from\",p_start,\"to\",p_end,\"pathways.\")\n",
    "path_sel = widgets.Select(options=glob(\"datadir/*\"),description=\"Pathways\")\n",
    "interact(select_pathways,f=path_sel, df=fixed(metacyc_df), __manual=True)"
   ]
  },
  {
   "cell_type": "markdown",
   "metadata": {},
   "source": [
    "### Make subsets of pathways"
   ]
  },
  {
   "cell_type": "markdown",
   "metadata": {},
   "source": [
    "As seen in the Venn diagram below (based on Metacyc v. 20.1) there is some overlap in terms of categorization of pathways to higher levels in the hierarchy.\n",
    "\n",
    "<p align=\"left\">\n",
    "    <img src=\"https://github.com/johnne/parse-db/raw/master/metacyc/images/metacyc_venn.png\" width=\"300\" height=\"300\"/>\n",
    "</p>\n",
    "\n",
    "To make things easy for us, pathways that overlap in some way between the three different categories will first be put into the 'Core' (Generation of Precursor Metabolites and Energy) category, then the 'Degradation' (Degradation/Utilization/Assimilation)."
   ]
  },
  {
   "cell_type": "code",
   "execution_count": null,
   "metadata": {
    "collapsed": false
   },
   "outputs": [],
   "source": [
    "core = [\"Generation of Precursor Metabolites and Energy\"]\n",
    "syn = [\"Biosynthesis\"]\n",
    "deg = [\"Degradation/Utilization/Assimilation\"]\n",
    "\n",
    "core_pwys = list(set(metacyc_df.loc[metacyc_df.Category1.isin(core),\"Pathway\"]))\n",
    "deg_pwys = list(set(metacyc_df.loc[metacyc_df.Category1.isin(deg),\"Pathway\"]))\n",
    "deg_pwys = list(set(deg_pwys).difference(set(core_pwys)))\n",
    "syn_pwys = list(set(metacyc_df.loc[metacyc_df.Category1.isin(syn),\"Pathway\"]))\n",
    "syn_pwys = list(set(syn_pwys).difference(set(core_pwys+deg_pwys)))"
   ]
  },
  {
   "cell_type": "code",
   "execution_count": null,
   "metadata": {
    "collapsed": false
   },
   "outputs": [],
   "source": [
    "def add_subset(root,pwys,metacyc_df,col='b'):\n",
    "    dg = nx.DiGraph()\n",
    "    df = metacyc_df.loc[(metacyc_df.Category1==root) & (metacyc_df.Pathway.isin(pwys))]\n",
    "    df = df.groupby(\"Pathway\").first()\n",
    "    df = df.loc[:,[\"Category1\",\"Category2\",\"Category3\",\"Category4\",\"Category5\",\"Category6\",\"Category7\",\"Parent\",\"Name\"]]\n",
    "    ## Add directed paths for all pathways starting at the root\n",
    "    for p in pwys:\n",
    "        r = df.loc[p]\n",
    "        previous = root\n",
    "        for i in range(2,8):\n",
    "            c = \"Category\"+str(i)\n",
    "            current = r[c]\n",
    "            ## If missing value for this level, use previous level name\n",
    "            if current!=current: current = previous\n",
    "            ## Add suffix to indicate level in the hierarchy\n",
    "            current = current.split(\"|\")[0]+\"|\"+str(i)\n",
    "            ## Add edge to the current level\n",
    "            dg.add_edge(previous,current)\n",
    "            ## Assign color value\n",
    "            dg.node[current]['col'] = col \n",
    "            dg.node[previous]['col'] = col\n",
    "            previous = current\n",
    "        i = 8\n",
    "        current = r[\"Parent\"]\n",
    "        if current!=current: current = r[\"Parent\"]\n",
    "        current = current.split(\"|\")[0]+\"|\"+str(i)\n",
    "        ## Add the parent node\n",
    "        dg.add_edge(previous,current)\n",
    "        dg.node[current]['col'] = col\n",
    "        dg.node[previous]['col'] = col\n",
    "        ## Add final pathway node\n",
    "        dg.add_edge(current,p)\n",
    "        dg.node[p]['col'] = col\n",
    "        name = r[\"Name\"]\n",
    "        dg.node[p]['Name'] = name\n",
    "    return dg\n",
    "\n",
    "dg_c = add_subset(core[0],core_pwys,metacyc_df,'r')\n",
    "dg_s = add_subset(syn[0],syn_pwys,metacyc_df,'b')\n",
    "dg_d = add_subset(deg[0],deg_pwys,metacyc_df,'g')\n",
    "DG = nx.compose_all([dg_d,dg_s,dg_c])"
   ]
  },
  {
   "cell_type": "markdown",
   "metadata": {},
   "source": [
    "### Create the graphs"
   ]
  },
  {
   "cell_type": "markdown",
   "metadata": {},
   "source": [
    "#### Functions to order nodes and assign node attributes"
   ]
  },
  {
   "cell_type": "code",
   "execution_count": null,
   "metadata": {
    "collapsed": false
   },
   "outputs": [],
   "source": [
    "def assign_node_weights(g,d):\n",
    "    for n in g.nodes():\n",
    "        try: w = d[n]\n",
    "        except KeyError: w = 0\n",
    "        try: g.node[n]['weight'] = w\n",
    "        except KeyError: g.node[n] = {'weight': w}\n",
    "    return g\n",
    "\n",
    "def assign_node_pos(g,pos):\n",
    "    for n in g.nodes(): g.node[n]['pos'] = pos[n]\n",
    "    return g\n",
    "\n",
    "def shift_nodes(g,nodes,x,y):\n",
    "    for n in nodes:\n",
    "        xn,yn = g.node[n]['pos']\n",
    "        xn+=x\n",
    "        yn+=y\n",
    "        g.node[n]['pos'] = (xn,yn)\n",
    "    return g"
   ]
  },
  {
   "cell_type": "markdown",
   "metadata": {},
   "source": [
    "#### Final touches"
   ]
  },
  {
   "cell_type": "markdown",
   "metadata": {},
   "source": [
    "Here the subgraphs are composed together and node the number of connections added as 'node weights'. Finally, edges are added connecting pathways between subgraphs."
   ]
  },
  {
   "cell_type": "code",
   "execution_count": null,
   "metadata": {
    "collapsed": false
   },
   "outputs": [],
   "source": [
    "## Count edges for pathways\n",
    "edge_counts = metacyc_graph.groupby(\"Node1\").count().ix[:,0]\n",
    "edge_counts = edge_counts.sort_values(ascending=False)\n",
    "\n",
    "## Count descendants for nodes\n",
    "descendants = {}\n",
    "for node in DG: descendants[node] = len(nx.descendants(DG,node))\n",
    "\n",
    "## Assign node weights\n",
    "DG = assign_node_weights(DG,descendants)\n",
    "\n",
    "## Assign positions\n",
    "pos=nx.nx_pydot.graphviz_layout(DG,prog='dot')\n",
    "DG = assign_node_pos(DG,pos)"
   ]
  },
  {
   "cell_type": "code",
   "execution_count": null,
   "metadata": {
    "collapsed": true
   },
   "outputs": [],
   "source": [
    "## Shift positions for core and degradation\n",
    "DG = shift_nodes(DG,dg_c.nodes(),-78010.0,0)\n",
    "DG = shift_nodes(DG,dg_d.nodes(),78010.0,0)"
   ]
  },
  {
   "cell_type": "markdown",
   "metadata": {},
   "source": [
    "## Visualize the resulting graph"
   ]
  },
  {
   "cell_type": "markdown",
   "metadata": {},
   "source": [
    "### Using plotly"
   ]
  },
  {
   "cell_type": "code",
   "execution_count": null,
   "metadata": {
    "collapsed": false,
    "scrolled": true
   },
   "outputs": [],
   "source": [
    "def plotly_graph(G, df, f,text):\n",
    "    ## Add colorbar for nodes, using log scale\n",
    "    ## Use log scale for colorbar\n",
    "    tickvals = np.log([1,101,201,501,1001,1501,2501])\n",
    "    ticktext = [\"0\",\"100\",\"200\",\"500\",\"1000\",\"1500\",\"2500\"]\n",
    "    node_colorbar=dict(thickness=15,len=0.5,title='Descendants',xanchor='left',\n",
    "                       titleside='right',tickmode='array',ticktext=ticktext, tickvals=tickvals)    \n",
    "\n",
    "    ## Add edge and node traces\n",
    "    edge_trace = Scatter(x=[],y=[],text=[],line=Line(width=0.1,color='#888'),hoverinfo='text',mode='lines')\n",
    "    node_trace = Scatter(x=[],y=[],text=[],mode='markers',hoverinfo='text',marker=Marker(showscale=True,colorscale='RdBu',\n",
    "        reversescale=False,color=[],size=[],colorbar=node_colorbar,line=dict(width=0.5)))\n",
    "\n",
    "    ## Create figure layout\n",
    "    fig_layout = Layout(title=\"Metacyc tree\",titlefont=dict(size=12),showlegend=False,width=1200,height=500,\n",
    "                hovermode='closest',margin=dict(b=20,l=5,r=5,t=20),\n",
    "                annotations=[dict(showarrow=False,text=\"Biosynthesis\",x=68685, y=620),\n",
    "                            dict(showarrow=False,text=\"Core metabolism\",x=222800, y=620),\n",
    "                            dict(showarrow=False,text=\"Degradation\",x=300810, y=620),\n",
    "                            dict(showarrow=False,x=200000,y=0,\n",
    "                                 text=\"Jupyter notebook on GitHub: <a href='https://github.com/johnne/biovisualize/blob/master/metacyc/create_metacyc_tree.ipynb'> create_metacyc_tree.ipynb</a>\")],\n",
    "                xaxis=XAxis(showgrid=False, zeroline=False, showticklabels=False),\n",
    "                yaxis=YAxis(showgrid=False, zeroline=False, showticklabels=False))\n",
    "\n",
    "    ## Add edges to edge trace\n",
    "    for edge in G.edges():\n",
    "        x0, y0 = G.node[edge[0]]['pos']\n",
    "        x1, y1 = G.node[edge[1]]['pos']\n",
    "        edge_trace['x'] += [x0, x1, None]\n",
    "        edge_trace['y'] += [y0, y1, None]\n",
    "\n",
    "    ## Add nodes to node trace\n",
    "    for n in G.nodes():\n",
    "        x, y = G.node[n]['pos']\n",
    "        node_trace['x'].append(x)\n",
    "        node_trace['y'].append(y)\n",
    "        node_trace['marker']['color'].append(np.log(G.node[n]['weight']+1))\n",
    "        try: name = list(set(df.loc[df.Pathway==n,\"Name\"]))[0]\n",
    "        except IndexError: name = n\n",
    "        node_trace['marker']['size'].append(6)\n",
    "        node_info = name+\" (#\"+str(G.node[n]['weight'])+\")\"\n",
    "        node_trace['text'].append(node_info)\n",
    "\n",
    "    fig = Figure(data=Data([edge_trace, node_trace]), layout=fig_layout)\n",
    "    return py.iplot(fig, filename=f, fileopt='overwrite')\n",
    "plotly_file_box = widgets.Text(value=\"metacyc_tree\", description=\"Filename\")\n",
    "freetext = widgets.Text()\n",
    "interact(plotly_graph,G=fixed(DG),df=fixed(metacyc_df), f=plotly_file_box, text=freetext, __manual=True)"
   ]
  },
  {
   "cell_type": "markdown",
   "metadata": {},
   "source": [
    "### Saving the graph to file"
   ]
  },
  {
   "cell_type": "markdown",
   "metadata": {},
   "source": [
    "The graph 'G' is saved in [pickle format](https://docs.python.org/3/library/pickle.html), a serialized byte stream of a Python object. This format will preserve Python objects used as nodes or edges."
   ]
  },
  {
   "cell_type": "code",
   "execution_count": null,
   "metadata": {
    "collapsed": false
   },
   "outputs": [],
   "source": [
    "def write_graph(f): nx.write_gpickle(DG, f)\n",
    "graph_sel = widgets.Text(description=\"Filename\", value=\"datadir/metacyc_tree.gpickle\")\n",
    "interact(write_graph,f=graph_sel, __manual=True)"
   ]
  },
  {
   "cell_type": "markdown",
   "metadata": {},
   "source": [
    "To read the graph from file simply run: nx.read_gpickle(\"datadir/metacyc_shell_network.gpickle\")"
   ]
  }
 ],
 "metadata": {
  "anaconda-cloud": {},
  "kernelspec": {
   "display_name": "Python [conda env:bio]",
   "language": "python",
   "name": "conda-env-bio-py"
  },
  "language_info": {
   "codemirror_mode": {
    "name": "ipython",
    "version": 2
   },
   "file_extension": ".py",
   "mimetype": "text/x-python",
   "name": "python",
   "nbconvert_exporter": "python",
   "pygments_lexer": "ipython2",
   "version": "2.7.12"
  },
  "widgets": {
   "state": {
    "1a3ec77ff5a246fe9a662f5765259c19": {
     "views": [
      {
       "cell_index": 9
      }
     ]
    },
    "9783b652feb3420ab2683513aec4a560": {
     "views": [
      {
       "cell_index": 26
      }
     ]
    },
    "ac5279d4589f421e901d6ed1dc6e23b8": {
     "views": [
      {
       "cell_index": 23
      }
     ]
    },
    "aecadd07feac447ea3140b8a27b88091": {
     "views": [
      {
       "cell_index": 7
      }
     ]
    }
   },
   "version": "1.2.0"
  }
 },
 "nbformat": 4,
 "nbformat_minor": 1
}
