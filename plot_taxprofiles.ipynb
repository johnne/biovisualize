{
 "cells": [
  {
   "cell_type": "markdown",
   "metadata": {},
   "source": [
    "# Plot taxonomy profiles"
   ]
  },
  {
   "cell_type": "markdown",
   "metadata": {},
   "source": [
    "## README"
   ]
  },
  {
   "cell_type": "markdown",
   "metadata": {},
   "source": [
    "This notebook allows you to import taxonomic annotations and abundance information for genes and to interactively explore the taxonomic profiles in your dataset.\n",
    "\n",
    "**DO THIS FIRST:**\n",
    "Start off by selecting 'Cell->Run All' from the menu. \n",
    "\n",
    "Once all cells have executed proceed to the [Select data](#Select_data) section to select and load your files stored in the 'datadir/' directory. You can then use the [barplot](#Barplot) and [clustermap](#Clustermap) interactive widgets to plot your data."
   ]
  },
  {
   "cell_type": "markdown",
   "metadata": {},
   "source": [
    "## Import packages"
   ]
  },
  {
   "cell_type": "code",
   "execution_count": null,
   "metadata": {
    "collapsed": false
   },
   "outputs": [],
   "source": [
    "%config InlineBackend.figure_format = 'svg'\n",
    "%matplotlib inline\n",
    "import seaborn as sns, pandas as pd, matplotlib.pyplot as plt, numpy as np\n",
    "from glob import glob\n",
    "from ipywidgets import interact, interactive, fixed\n",
    "import ipywidgets as widgets\n",
    "\n",
    "plt.style.use('ggplot')\n",
    "\n",
    "## Initialize empty dataframe for the plotdata\n",
    "data = pd.DataFrame()"
   ]
  },
  {
   "cell_type": "markdown",
   "metadata": {},
   "source": [
    "## Functions"
   ]
  },
  {
   "cell_type": "code",
   "execution_count": null,
   "metadata": {
    "collapsed": false
   },
   "outputs": [],
   "source": [
    "## Function for generating dataframe for plotting\n",
    "def make_plotdata(taxfile, covfile, sep):\n",
    "    print(\"Loading files\")\n",
    "    global taxdf\n",
    "    global covdf\n",
    "    global data\n",
    "    if sep==\"csv\": sep = \",\"\n",
    "    else: sep = \"\\t\"\n",
    "    taxdf = pd.read_csv(taxfile, header=0, sep=sep, index_col=0)\n",
    "    covdf = pd.read_csv(covfile, header=0, sep=sep, index_col=0)\n",
    "    print(\"Merging dataframes\")\n",
    "    data = pd.merge(taxdf,covdf,left_index=True,right_index=True)\n",
    "    ## Populate the widgets for plotting\n",
    "    rank_select.options=list(data.columns[0:len(taxdf.columns)])\n",
    "    sample_select.options=list(data.columns[len(taxdf.columns):])\n",
    "    taxa_select.options = list(set(data[rank_select.value]))\n",
    "    print(\"Data ready\")\n",
    "\n",
    "## Function for the barplot\n",
    "def barplot(rank, taxa, unc, samples, ylim, renorm, w, h, title, f, f_format):\n",
    "    plt.close(\"all\")\n",
    "    df = data\n",
    "    ## Groupby rank and normalize\n",
    "    dg = df.groupby(rank).sum()\n",
    "    dg = dg.div(dg.sum())*100\n",
    "    \n",
    "    ## Limit to samples\n",
    "    if list(samples)!=[]: dg = dg.loc[:,list(samples)]\n",
    "    ## Limit to taxa\n",
    "    if list(taxa)!=[]: dg = dg.loc[list(taxa)]\n",
    "    \n",
    "    if renorm: dg = dg.div(dg.sum())*100\n",
    "    ax = dg.T.plot(kind=\"bar\", stacked=True, ylim=ylim, title=title, figsize=(w,h))\n",
    "    ax.set_ylabel(\"%\")\n",
    "    plt.legend(bbox_to_anchor=(1.05, 1), loc=2, borderaxespad=0.);\n",
    "    if f!=\"\": \n",
    "        outfile = f+\".\"+f_format\n",
    "        plt.savefig(outfile,format=f_format,dpi=300,bbox_inches=\"tight\")\n",
    "        print(\"Saved figure to \"+outfile)\n",
    "\n",
    "## Function for the clustermap\n",
    "def clustermap(rank, taxa, unc, samples, renorm, row_clust, col_clust, clust_metric, clust_method, w, h, z_c, z_r, title, f, f_format):\n",
    "    if z_c: z = 1\n",
    "    if z_r: z = 0\n",
    "    if not z_c and not z_r: z = None\n",
    "    plt.close(\"all\")\n",
    "    df = data\n",
    "    ## Groupby rank and normalize\n",
    "    dg = df.groupby(rank).sum()\n",
    "    dg = dg.div(dg.sum())*100\n",
    "    \n",
    "    ## Limit to samples\n",
    "    if list(samples)!=[]: dg = dg.loc[:,list(samples)]\n",
    "    ## Limit to taxa\n",
    "    if list(taxa)!=[]: dg = dg.loc[list(taxa)]\n",
    "    \n",
    "    if renorm: dg = dg.div(dg.sum())*100\n",
    "    \n",
    "    ax = sns.clustermap(dg, col_cluster=col_clust, z_score=z, row_cluster=row_clust, method=clust_method,\n",
    "                        metric=clust_metric,figsize=(w,h))\n",
    "    ax.ax_heatmap.set_title(title)\n",
    "    plt.setp(ax.ax_heatmap.yaxis.get_majorticklabels(), rotation=0)\n",
    "    if f!=\"\": \n",
    "        outfile = f+\".\"+f_format\n",
    "        plt.savefig(outfile,format=f_format,dpi=300,bbox_inches=\"tight\")\n",
    "        print(\"Saved figure to \"+outfile)\n",
    "    \n",
    "## Function to update taxa on changes of the rank dropdown\n",
    "def update_taxa(*args): \n",
    "    newrank = args[0]['new']\n",
    "    top = list(data.groupby(newrank).sum().sum(axis=1).sort_values(ascending=False, inplace=False).index)\n",
    "    if unc_radio.value=='exclude': top = [t for t in top if not \"Unclassified\" in t]\n",
    "    top = top[0:14]\n",
    "    taxa_select.options = top"
   ]
  },
  {
   "cell_type": "markdown",
   "metadata": {},
   "source": [
    "## Widgets"
   ]
  },
  {
   "cell_type": "code",
   "execution_count": null,
   "metadata": {
    "collapsed": true
   },
   "outputs": [],
   "source": [
    "## Widgets for make_plotdata\n",
    "taxfile_select = widgets.Select(options=glob(\"datadir/*\"), description=\"Taxonomy\")\n",
    "covfile_select = widgets.Select(options=glob(\"datadir/*\"), description=\"Coverage\")\n",
    "sep_select = widgets.RadioButtons(options=[\"tab\",\"csv\"], description=\"Separator\")    \n",
    "\n",
    "## Widgets for barplot\n",
    "rank_select = widgets.Dropdown(options=[], description=\"Rank\")\n",
    "sample_select = widgets.SelectMultiple(options=[], description=\"Samples\")\n",
    "taxa_select = widgets.SelectMultiple(options=[], description=\"Taxa\")\n",
    "rank_select.observe(update_taxa, 'value')\n",
    "ylim_select = widgets.IntRangeSlider(min=0,max=100,value=(0,100), description=\"y-axis range\")\n",
    "title_box = widgets.Text(description=\"Title\")\n",
    "file_box = widgets.Text(description=\"Outfile\")\n",
    "file_type = widgets.RadioButtons(options=[\"png\",\"pdf\"], description=\"Format\")\n",
    "unc_radio = widgets.RadioButtons(options=[\"exclude\",\"include\"], description=\"Unknown\")\n",
    "re_normcheck = widgets.Checkbox(description=\"Renorm\",value=False)\n",
    "width_select = widgets.IntSlider(min=1,max=30,value=7, description=\"Width\")\n",
    "height_select = widgets.IntSlider(min=1,max=30,value=7, description=\"Height\")\n",
    "\n",
    "## Widgets for clustermap\n",
    "clustmetric_select = widgets.Select(options=[\"euclidian\",\"braycurtis\",\"correlation\",\"jaccard\"], value=\"braycurtis\", description=\"Metric\")\n",
    "clustermethod_select = widgets.Select(options=[\"complete\",\"average\",\"single\",\"weighted\",\"centroid\"], value=\"complete\", description=\"Method\")\n",
    "z_col = widgets.Checkbox(value=False, description=\"z-score columns\")\n",
    "z_row = widgets.Checkbox(value=False, description=\"z-score rows\")\n",
    "col_clust = widgets.Checkbox(value=False, description=\"Cluster columns\")\n",
    "row_clust = widgets.Checkbox(value=True, description=\"Cluster rows\")"
   ]
  },
  {
   "cell_type": "markdown",
   "metadata": {},
   "source": [
    "## Plotting"
   ]
  },
  {
   "cell_type": "markdown",
   "metadata": {},
   "source": [
    "<a id='Select_data'></a>\n",
    "### Select datafiles"
   ]
  },
  {
   "cell_type": "markdown",
   "metadata": {},
   "source": [
    "Choose one file that holds the taxonomic annotation for ORFs and one that contains the abundance values for ORFs in samples. In both files, ORFs are rows."
   ]
  },
  {
   "cell_type": "code",
   "execution_count": null,
   "metadata": {
    "collapsed": false
   },
   "outputs": [],
   "source": [
    "interact(make_plotdata, taxfile=taxfile_select, covfile=covfile_select, sep=sep_select, __manual=True)"
   ]
  },
  {
   "cell_type": "markdown",
   "metadata": {},
   "source": [
    "### Barplot"
   ]
  },
  {
   "cell_type": "markdown",
   "metadata": {},
   "source": [
    "#### README"
   ]
  },
  {
   "cell_type": "markdown",
   "metadata": {},
   "source": [
    "Create a barplot of taxa in your samples.\n",
    "\n",
    "**Rank**: Selects a rank for which the data will be summed and plotted.\n",
    "\n",
    "**Taxa**: Select from the (currently) top 14 most abundant taxa (shown in decreasing order of abundance) for the selected rank. \n",
    "\n",
    "**Unknown**: Include/Exclude \"Unclassified\" taxa in the Taxa field (requires you to refresh the Rank dropdown).\n",
    "\n",
    "**Samples**: Select samples. If no selection, all will be shown.\n",
    "\n",
    "**y-axis range**: Change the limits of the y-axis.\n",
    "\n",
    "**Renorm**: Normalize data again after filtering by taxa. This is helpful if you want to see changes in relative abundance for a few select taxa.\n",
    "\n",
    "**Title**: Set a title for the plot.\n",
    "\n",
    "**Outfile** and **Format**: Save the resulting plot to file with either png or pdf format."
   ]
  },
  {
   "cell_type": "code",
   "execution_count": null,
   "metadata": {
    "collapsed": false
   },
   "outputs": [],
   "source": [
    "interact(barplot,rank=rank_select, taxa=taxa_select, unc=unc_radio,samples=sample_select, ylim=ylim_select, renorm=re_normcheck, w=width_select, h=height_select, title=title_box, f=file_box, f_format=file_type, __manual=True)"
   ]
  },
  {
   "cell_type": "markdown",
   "metadata": {},
   "source": [
    "### Clustermap"
   ]
  },
  {
   "cell_type": "markdown",
   "metadata": {},
   "source": [
    "The first few widgets work as in the [barplot](#Barplot). Specific to the clustermap are:\n",
    "\n",
    "**Cluster rows and Cluster columns**: Let's you cluster the rows and/or columns by correlation. This can highlight patterns in your samples.\n",
    "\n",
    "**Metric**: Selects the cluster metric. See [here](https://docs.scipy.org/doc/scipy/reference/generated/scipy.spatial.distance.pdist.html) for a description of the different metrics.\n",
    "\n",
    "**Method**: Selects the cluster method. See [here](https://docs.scipy.org/doc/scipy/reference/generated/scipy.cluster.hierarchy.linkage.html) for a description of the different methods.\n",
    "\n",
    "**z-score columns and z-score rows**: Let's you calculate z-scores for rows or columns (if both are checked, the former takes precedence. Z-scores are: z = (x - mean)/std, so values in each row (column) will get the mean of the row (column) subtracted, then divided by the standard deviation of the row (column). This ensures that each row (column) has mean of 0 and variance of 1."
   ]
  },
  {
   "cell_type": "code",
   "execution_count": null,
   "metadata": {
    "collapsed": false
   },
   "outputs": [],
   "source": [
    "interact(clustermap, rank=rank_select, taxa=taxa_select, unc=unc_radio, samples=sample_select, renorm=re_normcheck, row_clust=row_clust, col_clust=col_clust, clust_method=clustermethod_select, clust_metric=clustmetric_select, w=width_select, h=height_select, z_c=z_col, z_r=z_row, title=title_box, f=file_box, f_format=file_type, __manual=True)"
   ]
  }
 ],
 "metadata": {
  "anaconda-cloud": {},
  "kernelspec": {
   "display_name": "Python [conda env:bio]",
   "language": "python",
   "name": "conda-env-bio-py"
  },
  "language_info": {
   "codemirror_mode": {
    "name": "ipython",
    "version": 2
   },
   "file_extension": ".py",
   "mimetype": "text/x-python",
   "name": "python",
   "nbconvert_exporter": "python",
   "pygments_lexer": "ipython2",
   "version": "2.7.12"
  },
  "widgets": {
   "state": {
    "6bc053e8cd0247e5b14702bbcc508ab2": {
     "views": [
      {
       "cell_index": 12
      }
     ]
    },
    "ad075683e2f24cfbb2791bd994714ee5": {
     "views": [
      {
       "cell_index": 16
      }
     ]
    },
    "da3fe282c33d4afba16150198dd2b888": {
     "views": [
      {
       "cell_index": 19
      }
     ]
    }
   },
   "version": "1.2.0"
  }
 },
 "nbformat": 4,
 "nbformat_minor": 1
}
