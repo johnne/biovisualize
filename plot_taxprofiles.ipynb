{
 "cells": [
  {
   "cell_type": "markdown",
   "metadata": {},
   "source": [
    "# Plot taxonomy profiles"
   ]
  },
  {
   "cell_type": "code",
   "execution_count": null,
   "metadata": {
    "collapsed": true
   },
   "outputs": [],
   "source": [
    "%config InlineBackend.figure_format = 'svg'\n",
    "%matplotlib inline\n",
    "import seaborn as sns, pandas as pd, matplotlib.pyplot as plt, numpy as np\n",
    "from glob import glob\n",
    "from ipywidgets import interact, interactive, fixed\n",
    "import ipywidgets as widgets\n",
    "\n",
    "plt.style.use('ggplot')"
   ]
  },
  {
   "cell_type": "markdown",
   "metadata": {},
   "source": [
    "## Select taxonomic annotation file"
   ]
  },
  {
   "cell_type": "code",
   "execution_count": null,
   "metadata": {
    "collapsed": false
   },
   "outputs": [],
   "source": [
    "def load_taxfile(f, sep):\n",
    "    print(\"Loading file.\")\n",
    "    if sep==\"csv\": sep = \",\"\n",
    "    else: sep = \"\\t\"\n",
    "    global taxdf\n",
    "    taxdf = pd.read_csv(f, header=0, sep=sep, index_col=0)\n",
    "    print(\"File loaded.\")\n",
    "\n",
    "file_select = widgets.Select(options=glob(\"datadir/*\"), description=\"File\")\n",
    "sep_select = widgets.RadioButtons(options=[\"tab\",\"csv\"], description=\"Separator\")\n",
    "interact(load_taxfile, f=file_select, sep=sep_select, __manual=True)"
   ]
  }
 ],
 "metadata": {
  "anaconda-cloud": {},
  "kernelspec": {
   "display_name": "Python [conda env:bio35]",
   "language": "python",
   "name": "conda-env-bio35-py"
  },
  "language_info": {
   "codemirror_mode": {
    "name": "ipython",
    "version": 3
   },
   "file_extension": ".py",
   "mimetype": "text/x-python",
   "name": "python",
   "nbconvert_exporter": "python",
   "pygments_lexer": "ipython3",
   "version": "3.5.2"
  },
  "widgets": {
   "state": {
    "745f35626e394dd2aead3c49d21de7de": {
     "views": [
      {
       "cell_index": 3
      }
     ]
    }
   },
   "version": "1.2.0"
  }
 },
 "nbformat": 4,
 "nbformat_minor": 1
}
